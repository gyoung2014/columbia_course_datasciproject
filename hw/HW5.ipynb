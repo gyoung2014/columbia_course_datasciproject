{
 "cells": [
  {
   "cell_type": "markdown",
   "metadata": {},
   "source": [
    "## HW5 -Solutions"
   ]
  },
  {
   "cell_type": "markdown",
   "metadata": {},
   "source": [
    "### Columbia Uni:yg2499\n",
    "\n",
    "#### Run under python3.x version\n",
    "    \n",
    "The focus of the exercise is to build a model to predict the age of Twitter users based only on the information \n",
    "obtained from his/her profile and Twitter network.  Use the following age bands (18-24, 25-34, 35-44, 45-54, 55-54, 65+). \n",
    "You are also welcome (and encouraged) to explore the data setPreview the documentView in a new window and find 2-3 \n",
    "additional insights that may be meaningful or interesting.\n",
    "\n",
    "Training and Test Data:\n",
    "\n",
    "user_ages_train.csv: The training data, indicating the known age for each user ID in the set.(80% training data,and 20% hold-on data)\n",
    "\n",
    "\n",
    "User Data:\n",
    "\n",
    "user_age_profiles.json: Twitter user profiles corresponding to the users in the training and test sets. The data format is documented here.\n",
    "\n",
    "user_age_tweets.json: Recent tweets from the users in the training and test sets. The data format is documented here.\n",
    "    \n",
    "Friend Data:\n",
    "\n",
    "friends.csv: A data set indicating users that the users in the training/test set are following.\n",
    "\n",
    "friend_profiles.json: Twitter user profiles corresponding to the users in friends.csv. The data format is documented here.\n",
    "\n",
    "Students must perform their work in Python.\n",
    "Students must provide the age predictions for the cases in the user_ages_test.csv file. Please provide a csv file with each line containing a single “ID, age_prediction” pair. Please name this file age_predictions.csv.\n",
    "Please submit the link to your github repo"
   ]
  },
  {
   "cell_type": "markdown",
   "metadata": {},
   "source": [
    "### Preprocessing engine for at least 2 json files (not including the id to age)  50 points"
   ]
  },
  {
   "cell_type": "code",
   "execution_count": 4,
   "metadata": {},
   "outputs": [],
   "source": [
    "import json\n",
    "import csv\n",
    "import pandas as pd\n",
    "from pandas.io.json import json_normalize\n",
    "import re\n",
    "import nltk\n",
    "from nltk.corpus import stopwords,wordnet\n",
    "from sklearn.feature_extraction.text import CountVectorizer\n",
    "from sklearn.feature_extraction.text import TfidfTransformer\n",
    "from sklearn.naive_bayes import MultinomialNB\n",
    "from sklearn.pipeline import Pipeline\n",
    "from sklearn.ensemble import RandomForestClassifier\n",
    "from sklearn.feature_selection import SelectFromModel\n",
    "from sklearn.linear_model import SGDClassifier\n",
    "from sklearn.svm import SVC, LinearSVC\n",
    "from sklearn import cross_validation\n",
    "from sklearn.cross_validation import train_test_split\n",
    "from sklearn.cross_validation import StratifiedShuffleSplit,StratifiedKFold,train_test_split\n",
    "from sklearn.metrics import accuracy_score,recall_score,f1_score,hamming_loss\n",
    "import matplotlib.pyplot as plt\n",
    "%matplotlib inline\n",
    "#using matplotlib’s ggplot style\n",
    "plt.style.use('ggplot')\n",
    "import seaborn as sns\n",
    "sns.set(color_codes=True)"
   ]
  },
  {
   "cell_type": "code",
   "execution_count": 6,
   "metadata": {
    "collapsed": true
   },
   "outputs": [],
   "source": [
    "#thepath ='/Users/gyang/Desktop/ProjectDataScience/HW/HW5/hw5data'\n",
    "\n",
    "df =pd.read_json('/Users/gyang/Desktop/ProjectDataScience/HW/HW5/hw5data/user_age_tweets.json')\n",
    "df_o =pd.read_json('/Users/gyang/Desktop/ProjectDataScience/HW/HW5/hw5data/user_age_profiles.json')"
   ]
  },
  {
   "cell_type": "code",
   "execution_count": 7,
   "metadata": {},
   "outputs": [
    {
     "data": {
      "text/html": [
       "<div>\n",
       "<style>\n",
       "    .dataframe thead tr:only-child th {\n",
       "        text-align: right;\n",
       "    }\n",
       "\n",
       "    .dataframe thead th {\n",
       "        text-align: left;\n",
       "    }\n",
       "\n",
       "    .dataframe tbody tr th {\n",
       "        vertical-align: top;\n",
       "    }\n",
       "</style>\n",
       "<table border=\"1\" class=\"dataframe\">\n",
       "  <thead>\n",
       "    <tr style=\"text-align: right;\">\n",
       "      <th></th>\n",
       "      <th>contributors</th>\n",
       "      <th>coordinates</th>\n",
       "      <th>created_at</th>\n",
       "      <th>entities</th>\n",
       "      <th>favorite_count</th>\n",
       "      <th>favorited</th>\n",
       "      <th>geo</th>\n",
       "      <th>id</th>\n",
       "      <th>id_str</th>\n",
       "      <th>in_reply_to_screen_name</th>\n",
       "      <th>in_reply_to_status_id</th>\n",
       "      <th>in_reply_to_status_id_str</th>\n",
       "      <th>in_reply_to_user_id</th>\n",
       "      <th>in_reply_to_user_id_str</th>\n",
       "      <th>lang</th>\n",
       "      <th>metadata</th>\n",
       "      <th>place</th>\n",
       "      <th>possibly_sensitive</th>\n",
       "      <th>retweet_count</th>\n",
       "      <th>retweeted</th>\n",
       "      <th>retweeted_status</th>\n",
       "      <th>source</th>\n",
       "      <th>text</th>\n",
       "      <th>truncated</th>\n",
       "      <th>user</th>\n",
       "    </tr>\n",
       "  </thead>\n",
       "  <tbody>\n",
       "    <tr>\n",
       "      <th>0</th>\n",
       "      <td>NaN</td>\n",
       "      <td>None</td>\n",
       "      <td>2014-09-26 05:55:45</td>\n",
       "      <td>{'hashtags': [], 'urls': [], 'symbols': [], 'u...</td>\n",
       "      <td>0</td>\n",
       "      <td>False</td>\n",
       "      <td>None</td>\n",
       "      <td>515379174454747136</td>\n",
       "      <td>515379174454747136</td>\n",
       "      <td>None</td>\n",
       "      <td>NaN</td>\n",
       "      <td>NaN</td>\n",
       "      <td>NaN</td>\n",
       "      <td>NaN</td>\n",
       "      <td>en</td>\n",
       "      <td>{'result_type': 'recent', 'iso_language_code':...</td>\n",
       "      <td>None</td>\n",
       "      <td>NaN</td>\n",
       "      <td>7</td>\n",
       "      <td>False</td>\n",
       "      <td>{'in_reply_to_status_id': None, 'coordinates':...</td>\n",
       "      <td>&lt;a href=\"http://twitter.com/download/iphone\" r...</td>\n",
       "      <td>RT @AlenaBacalia: i over think and second gues...</td>\n",
       "      <td>False</td>\n",
       "      <td>{'follow_request_sent': False, 'profile_image_...</td>\n",
       "    </tr>\n",
       "    <tr>\n",
       "      <th>1</th>\n",
       "      <td>NaN</td>\n",
       "      <td>None</td>\n",
       "      <td>2014-09-26 05:58:17</td>\n",
       "      <td>{'hashtags': [], 'urls': [], 'symbols': [], 'u...</td>\n",
       "      <td>0</td>\n",
       "      <td>False</td>\n",
       "      <td>None</td>\n",
       "      <td>515379813670854656</td>\n",
       "      <td>515379813670854656</td>\n",
       "      <td>None</td>\n",
       "      <td>NaN</td>\n",
       "      <td>NaN</td>\n",
       "      <td>NaN</td>\n",
       "      <td>NaN</td>\n",
       "      <td>en</td>\n",
       "      <td>{'result_type': 'recent', 'iso_language_code':...</td>\n",
       "      <td>None</td>\n",
       "      <td>NaN</td>\n",
       "      <td>80</td>\n",
       "      <td>False</td>\n",
       "      <td>{'in_reply_to_status_id': None, 'coordinates':...</td>\n",
       "      <td>&lt;a href=\"http://twitter.com/download/iphone\" r...</td>\n",
       "      <td>RT @hfholden34: I've wasted too much time on t...</td>\n",
       "      <td>False</td>\n",
       "      <td>{'follow_request_sent': False, 'profile_image_...</td>\n",
       "    </tr>\n",
       "    <tr>\n",
       "      <th>2</th>\n",
       "      <td>NaN</td>\n",
       "      <td>None</td>\n",
       "      <td>2014-09-26 05:59:47</td>\n",
       "      <td>{'hashtags': [], 'urls': [], 'symbols': [], 'u...</td>\n",
       "      <td>1</td>\n",
       "      <td>False</td>\n",
       "      <td>None</td>\n",
       "      <td>515380190361288704</td>\n",
       "      <td>515380190361288704</td>\n",
       "      <td>None</td>\n",
       "      <td>NaN</td>\n",
       "      <td>NaN</td>\n",
       "      <td>NaN</td>\n",
       "      <td>NaN</td>\n",
       "      <td>en</td>\n",
       "      <td>{'result_type': 'recent', 'iso_language_code':...</td>\n",
       "      <td>None</td>\n",
       "      <td>NaN</td>\n",
       "      <td>1</td>\n",
       "      <td>False</td>\n",
       "      <td>NaN</td>\n",
       "      <td>&lt;a href=\"http://twitter.com/download/iphone\" r...</td>\n",
       "      <td>I'm already gone.</td>\n",
       "      <td>False</td>\n",
       "      <td>{'follow_request_sent': False, 'profile_image_...</td>\n",
       "    </tr>\n",
       "    <tr>\n",
       "      <th>3</th>\n",
       "      <td>NaN</td>\n",
       "      <td>None</td>\n",
       "      <td>2014-09-26 06:00:07</td>\n",
       "      <td>{'hashtags': [], 'urls': [], 'symbols': [], 'u...</td>\n",
       "      <td>1</td>\n",
       "      <td>False</td>\n",
       "      <td>None</td>\n",
       "      <td>515380273005854721</td>\n",
       "      <td>515380273005854720</td>\n",
       "      <td>None</td>\n",
       "      <td>NaN</td>\n",
       "      <td>NaN</td>\n",
       "      <td>NaN</td>\n",
       "      <td>NaN</td>\n",
       "      <td>en</td>\n",
       "      <td>{'result_type': 'recent', 'iso_language_code':...</td>\n",
       "      <td>None</td>\n",
       "      <td>NaN</td>\n",
       "      <td>0</td>\n",
       "      <td>False</td>\n",
       "      <td>NaN</td>\n",
       "      <td>&lt;a href=\"http://twitter.com/download/iphone\" r...</td>\n",
       "      <td>I'm already something to someone that I don't ...</td>\n",
       "      <td>False</td>\n",
       "      <td>{'follow_request_sent': False, 'profile_image_...</td>\n",
       "    </tr>\n",
       "    <tr>\n",
       "      <th>4</th>\n",
       "      <td>NaN</td>\n",
       "      <td>None</td>\n",
       "      <td>2014-09-26 08:09:57</td>\n",
       "      <td>{'hashtags': [], 'urls': [], 'symbols': [], 'u...</td>\n",
       "      <td>1</td>\n",
       "      <td>False</td>\n",
       "      <td>None</td>\n",
       "      <td>515412946608852992</td>\n",
       "      <td>515412946608852992</td>\n",
       "      <td>None</td>\n",
       "      <td>NaN</td>\n",
       "      <td>NaN</td>\n",
       "      <td>NaN</td>\n",
       "      <td>NaN</td>\n",
       "      <td>en</td>\n",
       "      <td>{'result_type': 'recent', 'iso_language_code':...</td>\n",
       "      <td>None</td>\n",
       "      <td>NaN</td>\n",
       "      <td>0</td>\n",
       "      <td>False</td>\n",
       "      <td>NaN</td>\n",
       "      <td>&lt;a href=\"http://twitter.com/download/android\" ...</td>\n",
       "      <td>I don't know what I'm doing with my life, but ...</td>\n",
       "      <td>False</td>\n",
       "      <td>{'follow_request_sent': False, 'profile_image_...</td>\n",
       "    </tr>\n",
       "  </tbody>\n",
       "</table>\n",
       "</div>"
      ],
      "text/plain": [
       "   contributors coordinates          created_at  \\\n",
       "0           NaN        None 2014-09-26 05:55:45   \n",
       "1           NaN        None 2014-09-26 05:58:17   \n",
       "2           NaN        None 2014-09-26 05:59:47   \n",
       "3           NaN        None 2014-09-26 06:00:07   \n",
       "4           NaN        None 2014-09-26 08:09:57   \n",
       "\n",
       "                                            entities  favorite_count  \\\n",
       "0  {'hashtags': [], 'urls': [], 'symbols': [], 'u...               0   \n",
       "1  {'hashtags': [], 'urls': [], 'symbols': [], 'u...               0   \n",
       "2  {'hashtags': [], 'urls': [], 'symbols': [], 'u...               1   \n",
       "3  {'hashtags': [], 'urls': [], 'symbols': [], 'u...               1   \n",
       "4  {'hashtags': [], 'urls': [], 'symbols': [], 'u...               1   \n",
       "\n",
       "   favorited   geo                  id              id_str  \\\n",
       "0      False  None  515379174454747136  515379174454747136   \n",
       "1      False  None  515379813670854656  515379813670854656   \n",
       "2      False  None  515380190361288704  515380190361288704   \n",
       "3      False  None  515380273005854721  515380273005854720   \n",
       "4      False  None  515412946608852992  515412946608852992   \n",
       "\n",
       "  in_reply_to_screen_name  in_reply_to_status_id  in_reply_to_status_id_str  \\\n",
       "0                    None                    NaN                        NaN   \n",
       "1                    None                    NaN                        NaN   \n",
       "2                    None                    NaN                        NaN   \n",
       "3                    None                    NaN                        NaN   \n",
       "4                    None                    NaN                        NaN   \n",
       "\n",
       "   in_reply_to_user_id  in_reply_to_user_id_str lang  \\\n",
       "0                  NaN                      NaN   en   \n",
       "1                  NaN                      NaN   en   \n",
       "2                  NaN                      NaN   en   \n",
       "3                  NaN                      NaN   en   \n",
       "4                  NaN                      NaN   en   \n",
       "\n",
       "                                            metadata place  \\\n",
       "0  {'result_type': 'recent', 'iso_language_code':...  None   \n",
       "1  {'result_type': 'recent', 'iso_language_code':...  None   \n",
       "2  {'result_type': 'recent', 'iso_language_code':...  None   \n",
       "3  {'result_type': 'recent', 'iso_language_code':...  None   \n",
       "4  {'result_type': 'recent', 'iso_language_code':...  None   \n",
       "\n",
       "   possibly_sensitive  retweet_count  retweeted  \\\n",
       "0                 NaN              7      False   \n",
       "1                 NaN             80      False   \n",
       "2                 NaN              1      False   \n",
       "3                 NaN              0      False   \n",
       "4                 NaN              0      False   \n",
       "\n",
       "                                    retweeted_status  \\\n",
       "0  {'in_reply_to_status_id': None, 'coordinates':...   \n",
       "1  {'in_reply_to_status_id': None, 'coordinates':...   \n",
       "2                                                NaN   \n",
       "3                                                NaN   \n",
       "4                                                NaN   \n",
       "\n",
       "                                              source  \\\n",
       "0  <a href=\"http://twitter.com/download/iphone\" r...   \n",
       "1  <a href=\"http://twitter.com/download/iphone\" r...   \n",
       "2  <a href=\"http://twitter.com/download/iphone\" r...   \n",
       "3  <a href=\"http://twitter.com/download/iphone\" r...   \n",
       "4  <a href=\"http://twitter.com/download/android\" ...   \n",
       "\n",
       "                                                text  truncated  \\\n",
       "0  RT @AlenaBacalia: i over think and second gues...      False   \n",
       "1  RT @hfholden34: I've wasted too much time on t...      False   \n",
       "2                                  I'm already gone.      False   \n",
       "3  I'm already something to someone that I don't ...      False   \n",
       "4  I don't know what I'm doing with my life, but ...      False   \n",
       "\n",
       "                                                user  \n",
       "0  {'follow_request_sent': False, 'profile_image_...  \n",
       "1  {'follow_request_sent': False, 'profile_image_...  \n",
       "2  {'follow_request_sent': False, 'profile_image_...  \n",
       "3  {'follow_request_sent': False, 'profile_image_...  \n",
       "4  {'follow_request_sent': False, 'profile_image_...  "
      ]
     },
     "execution_count": 7,
     "metadata": {},
     "output_type": "execute_result"
    }
   ],
   "source": [
    "pd.set_option('display.max_columns',None)\n",
    "df.head()"
   ]
  },
  {
   "cell_type": "code",
   "execution_count": 8,
   "metadata": {},
   "outputs": [
    {
     "data": {
      "text/html": [
       "<div>\n",
       "<style>\n",
       "    .dataframe thead tr:only-child th {\n",
       "        text-align: right;\n",
       "    }\n",
       "\n",
       "    .dataframe thead th {\n",
       "        text-align: left;\n",
       "    }\n",
       "\n",
       "    .dataframe tbody tr th {\n",
       "        vertical-align: top;\n",
       "    }\n",
       "</style>\n",
       "<table border=\"1\" class=\"dataframe\">\n",
       "  <thead>\n",
       "    <tr style=\"text-align: right;\">\n",
       "      <th></th>\n",
       "      <th>contributors_enabled</th>\n",
       "      <th>created_at</th>\n",
       "      <th>default_profile</th>\n",
       "      <th>default_profile_image</th>\n",
       "      <th>description</th>\n",
       "      <th>entities</th>\n",
       "      <th>favourites_count</th>\n",
       "      <th>follow_request_sent</th>\n",
       "      <th>followers_count</th>\n",
       "      <th>following</th>\n",
       "      <th>friends_count</th>\n",
       "      <th>geo_enabled</th>\n",
       "      <th>id</th>\n",
       "      <th>id_str</th>\n",
       "      <th>is_translation_enabled</th>\n",
       "      <th>is_translator</th>\n",
       "      <th>lang</th>\n",
       "      <th>listed_count</th>\n",
       "      <th>location</th>\n",
       "      <th>name</th>\n",
       "      <th>notifications</th>\n",
       "      <th>profile_background_color</th>\n",
       "      <th>profile_background_image_url</th>\n",
       "      <th>profile_background_image_url_https</th>\n",
       "      <th>profile_background_tile</th>\n",
       "      <th>profile_banner_url</th>\n",
       "      <th>profile_image_url</th>\n",
       "      <th>profile_image_url_https</th>\n",
       "      <th>profile_link_color</th>\n",
       "      <th>profile_sidebar_border_color</th>\n",
       "      <th>profile_sidebar_fill_color</th>\n",
       "      <th>profile_text_color</th>\n",
       "      <th>profile_use_background_image</th>\n",
       "      <th>protected</th>\n",
       "      <th>screen_name</th>\n",
       "      <th>status</th>\n",
       "      <th>statuses_count</th>\n",
       "      <th>time_zone</th>\n",
       "      <th>url</th>\n",
       "      <th>utc_offset</th>\n",
       "      <th>verified</th>\n",
       "    </tr>\n",
       "  </thead>\n",
       "  <tbody>\n",
       "    <tr>\n",
       "      <th>0</th>\n",
       "      <td>False</td>\n",
       "      <td>2012-06-19 17:54:58</td>\n",
       "      <td>False</td>\n",
       "      <td>False</td>\n",
       "      <td>You'll never find another one like me.</td>\n",
       "      <td>{'description': {'urls': []}}</td>\n",
       "      <td>7931</td>\n",
       "      <td>False</td>\n",
       "      <td>274</td>\n",
       "      <td>False</td>\n",
       "      <td>264</td>\n",
       "      <td>True</td>\n",
       "      <td>612815277</td>\n",
       "      <td>612815277</td>\n",
       "      <td>False</td>\n",
       "      <td>False</td>\n",
       "      <td>en</td>\n",
       "      <td>1</td>\n",
       "      <td></td>\n",
       "      <td>Greggy</td>\n",
       "      <td>False</td>\n",
       "      <td>131516</td>\n",
       "      <td>http://abs.twimg.com/images/themes/theme14/bg.gif</td>\n",
       "      <td>https://abs.twimg.com/images/themes/theme14/bg...</td>\n",
       "      <td>True</td>\n",
       "      <td>https://pbs.twimg.com/profile_banners/61281527...</td>\n",
       "      <td>http://pbs.twimg.com/profile_images/4776662828...</td>\n",
       "      <td>https://pbs.twimg.com/profile_images/477666282...</td>\n",
       "      <td>009999</td>\n",
       "      <td>EEEEEE</td>\n",
       "      <td>EFEFEF</td>\n",
       "      <td>333333</td>\n",
       "      <td>True</td>\n",
       "      <td>False</td>\n",
       "      <td>agregtoremember</td>\n",
       "      <td>{'retweeted_status': {'retweet_count': 452, 'c...</td>\n",
       "      <td>12230</td>\n",
       "      <td>Atlantic Time (Canada)</td>\n",
       "      <td>None</td>\n",
       "      <td>-10800.0</td>\n",
       "      <td>False</td>\n",
       "    </tr>\n",
       "    <tr>\n",
       "      <th>1</th>\n",
       "      <td>False</td>\n",
       "      <td>2012-02-12 22:36:17</td>\n",
       "      <td>False</td>\n",
       "      <td>False</td>\n",
       "      <td>If you like me, i probably like you more. {IG:...</td>\n",
       "      <td>{'description': {'urls': []}}</td>\n",
       "      <td>1141</td>\n",
       "      <td>False</td>\n",
       "      <td>481</td>\n",
       "      <td>False</td>\n",
       "      <td>527</td>\n",
       "      <td>True</td>\n",
       "      <td>490791079</td>\n",
       "      <td>490791079</td>\n",
       "      <td>False</td>\n",
       "      <td>False</td>\n",
       "      <td>en</td>\n",
       "      <td>1</td>\n",
       "      <td>9⃣3⃣7⃣</td>\n",
       "      <td>Guff✌️</td>\n",
       "      <td>False</td>\n",
       "      <td>1A1B1F</td>\n",
       "      <td>http://abs.twimg.com/images/themes/theme9/bg.gif</td>\n",
       "      <td>https://abs.twimg.com/images/themes/theme9/bg.gif</td>\n",
       "      <td>False</td>\n",
       "      <td>https://pbs.twimg.com/profile_banners/49079107...</td>\n",
       "      <td>http://pbs.twimg.com/profile_images/5097227545...</td>\n",
       "      <td>https://pbs.twimg.com/profile_images/509722754...</td>\n",
       "      <td>2FC2EF</td>\n",
       "      <td>181A1E</td>\n",
       "      <td>252429</td>\n",
       "      <td>666666</td>\n",
       "      <td>True</td>\n",
       "      <td>False</td>\n",
       "      <td>C_Guffieee</td>\n",
       "      <td>{'retweet_count': 0, 'created_at': 'Fri Sep 26...</td>\n",
       "      <td>14680</td>\n",
       "      <td>Hawaii</td>\n",
       "      <td>None</td>\n",
       "      <td>-36000.0</td>\n",
       "      <td>False</td>\n",
       "    </tr>\n",
       "    <tr>\n",
       "      <th>2</th>\n",
       "      <td>False</td>\n",
       "      <td>2011-03-11 21:44:56</td>\n",
       "      <td>False</td>\n",
       "      <td>False</td>\n",
       "      <td>Success doesn’t come to you…you go to it.</td>\n",
       "      <td>{'description': {'urls': []}}</td>\n",
       "      <td>174</td>\n",
       "      <td>False</td>\n",
       "      <td>878</td>\n",
       "      <td>False</td>\n",
       "      <td>953</td>\n",
       "      <td>False</td>\n",
       "      <td>264416315</td>\n",
       "      <td>264416315</td>\n",
       "      <td>False</td>\n",
       "      <td>False</td>\n",
       "      <td>en</td>\n",
       "      <td>2</td>\n",
       "      <td>Wonderland</td>\n",
       "      <td>Starqueria.⚓</td>\n",
       "      <td>False</td>\n",
       "      <td>FCEBB6</td>\n",
       "      <td>http://pbs.twimg.com/profile_background_images...</td>\n",
       "      <td>https://pbs.twimg.com/profile_background_image...</td>\n",
       "      <td>True</td>\n",
       "      <td>https://pbs.twimg.com/profile_banners/26441631...</td>\n",
       "      <td>http://pbs.twimg.com/profile_images/5127311352...</td>\n",
       "      <td>https://pbs.twimg.com/profile_images/512731135...</td>\n",
       "      <td>CE7834</td>\n",
       "      <td>F0A830</td>\n",
       "      <td>78C0A8</td>\n",
       "      <td>5E412F</td>\n",
       "      <td>True</td>\n",
       "      <td>False</td>\n",
       "      <td>_Starqueria</td>\n",
       "      <td>{'retweeted_status': {'retweet_count': 2614, '...</td>\n",
       "      <td>22857</td>\n",
       "      <td>Hawaii</td>\n",
       "      <td>None</td>\n",
       "      <td>-36000.0</td>\n",
       "      <td>False</td>\n",
       "    </tr>\n",
       "    <tr>\n",
       "      <th>3</th>\n",
       "      <td>False</td>\n",
       "      <td>2009-12-17 20:08:55</td>\n",
       "      <td>False</td>\n",
       "      <td>False</td>\n",
       "      <td>NEVER care about what a person says that doesn...</td>\n",
       "      <td>{'description': {'urls': []}}</td>\n",
       "      <td>303</td>\n",
       "      <td>False</td>\n",
       "      <td>742</td>\n",
       "      <td>False</td>\n",
       "      <td>701</td>\n",
       "      <td>False</td>\n",
       "      <td>97515432</td>\n",
       "      <td>97515432</td>\n",
       "      <td>False</td>\n",
       "      <td>False</td>\n",
       "      <td>en</td>\n",
       "      <td>30</td>\n",
       "      <td>•Carolina South• 843•</td>\n",
       "      <td>. keeleesha</td>\n",
       "      <td>False</td>\n",
       "      <td>131516</td>\n",
       "      <td>http://pbs.twimg.com/profile_background_images...</td>\n",
       "      <td>https://pbs.twimg.com/profile_background_image...</td>\n",
       "      <td>True</td>\n",
       "      <td>NaN</td>\n",
       "      <td>http://pbs.twimg.com/profile_images/4939742059...</td>\n",
       "      <td>https://pbs.twimg.com/profile_images/493974205...</td>\n",
       "      <td>009999</td>\n",
       "      <td>FFFFFF</td>\n",
       "      <td>EFEFEF</td>\n",
       "      <td>333333</td>\n",
       "      <td>True</td>\n",
       "      <td>False</td>\n",
       "      <td>Keeleesha</td>\n",
       "      <td>{'retweet_count': 0, 'entities': {'urls': [], ...</td>\n",
       "      <td>71654</td>\n",
       "      <td>Eastern Time (US &amp; Canada)</td>\n",
       "      <td>None</td>\n",
       "      <td>-14400.0</td>\n",
       "      <td>False</td>\n",
       "    </tr>\n",
       "    <tr>\n",
       "      <th>4</th>\n",
       "      <td>False</td>\n",
       "      <td>2011-03-24 21:14:53</td>\n",
       "      <td>False</td>\n",
       "      <td>False</td>\n",
       "      <td>these niggas some haters &amp; i made myself so ea...</td>\n",
       "      <td>{'description': {'urls': []}}</td>\n",
       "      <td>52</td>\n",
       "      <td>False</td>\n",
       "      <td>729</td>\n",
       "      <td>False</td>\n",
       "      <td>688</td>\n",
       "      <td>False</td>\n",
       "      <td>271608323</td>\n",
       "      <td>271608323</td>\n",
       "      <td>False</td>\n",
       "      <td>False</td>\n",
       "      <td>en</td>\n",
       "      <td>0</td>\n",
       "      <td>Seven•five•Seven</td>\n",
       "      <td>killakee :)</td>\n",
       "      <td>False</td>\n",
       "      <td>0A0A0A</td>\n",
       "      <td>http://pbs.twimg.com/profile_background_images...</td>\n",
       "      <td>https://pbs.twimg.com/profile_background_image...</td>\n",
       "      <td>True</td>\n",
       "      <td>https://pbs.twimg.com/profile_banners/27160832...</td>\n",
       "      <td>http://pbs.twimg.com/profile_images/4627093362...</td>\n",
       "      <td>https://pbs.twimg.com/profile_images/462709336...</td>\n",
       "      <td>D62D0F</td>\n",
       "      <td>000000</td>\n",
       "      <td>000000</td>\n",
       "      <td>A3A3A3</td>\n",
       "      <td>True</td>\n",
       "      <td>False</td>\n",
       "      <td>KeeLashawn_</td>\n",
       "      <td>{'retweet_count': 0, 'entities': {'urls': [{'e...</td>\n",
       "      <td>48452</td>\n",
       "      <td>Eastern Time (US &amp; Canada)</td>\n",
       "      <td>None</td>\n",
       "      <td>-14400.0</td>\n",
       "      <td>False</td>\n",
       "    </tr>\n",
       "  </tbody>\n",
       "</table>\n",
       "</div>"
      ],
      "text/plain": [
       "   contributors_enabled          created_at  default_profile  \\\n",
       "0                 False 2012-06-19 17:54:58            False   \n",
       "1                 False 2012-02-12 22:36:17            False   \n",
       "2                 False 2011-03-11 21:44:56            False   \n",
       "3                 False 2009-12-17 20:08:55            False   \n",
       "4                 False 2011-03-24 21:14:53            False   \n",
       "\n",
       "   default_profile_image                                        description  \\\n",
       "0                  False             You'll never find another one like me.   \n",
       "1                  False  If you like me, i probably like you more. {IG:...   \n",
       "2                  False          Success doesn’t come to you…you go to it.   \n",
       "3                  False  NEVER care about what a person says that doesn...   \n",
       "4                  False  these niggas some haters & i made myself so ea...   \n",
       "\n",
       "                        entities  favourites_count  follow_request_sent  \\\n",
       "0  {'description': {'urls': []}}              7931                False   \n",
       "1  {'description': {'urls': []}}              1141                False   \n",
       "2  {'description': {'urls': []}}               174                False   \n",
       "3  {'description': {'urls': []}}               303                False   \n",
       "4  {'description': {'urls': []}}                52                False   \n",
       "\n",
       "   followers_count  following  friends_count  geo_enabled         id  \\\n",
       "0              274      False            264         True  612815277   \n",
       "1              481      False            527         True  490791079   \n",
       "2              878      False            953        False  264416315   \n",
       "3              742      False            701        False   97515432   \n",
       "4              729      False            688        False  271608323   \n",
       "\n",
       "      id_str  is_translation_enabled  is_translator lang  listed_count  \\\n",
       "0  612815277                   False          False   en             1   \n",
       "1  490791079                   False          False   en             1   \n",
       "2  264416315                   False          False   en             2   \n",
       "3   97515432                   False          False   en            30   \n",
       "4  271608323                   False          False   en             0   \n",
       "\n",
       "                location          name  notifications  \\\n",
       "0                               Greggy          False   \n",
       "1                 9⃣3⃣7⃣        Guff✌️          False   \n",
       "2            Wonderland   Starqueria.⚓          False   \n",
       "3  •Carolina South• 843•   . keeleesha          False   \n",
       "4       Seven•five•Seven   killakee :)          False   \n",
       "\n",
       "  profile_background_color                       profile_background_image_url  \\\n",
       "0                   131516  http://abs.twimg.com/images/themes/theme14/bg.gif   \n",
       "1                   1A1B1F   http://abs.twimg.com/images/themes/theme9/bg.gif   \n",
       "2                   FCEBB6  http://pbs.twimg.com/profile_background_images...   \n",
       "3                   131516  http://pbs.twimg.com/profile_background_images...   \n",
       "4                   0A0A0A  http://pbs.twimg.com/profile_background_images...   \n",
       "\n",
       "                  profile_background_image_url_https  profile_background_tile  \\\n",
       "0  https://abs.twimg.com/images/themes/theme14/bg...                     True   \n",
       "1  https://abs.twimg.com/images/themes/theme9/bg.gif                    False   \n",
       "2  https://pbs.twimg.com/profile_background_image...                     True   \n",
       "3  https://pbs.twimg.com/profile_background_image...                     True   \n",
       "4  https://pbs.twimg.com/profile_background_image...                     True   \n",
       "\n",
       "                                  profile_banner_url  \\\n",
       "0  https://pbs.twimg.com/profile_banners/61281527...   \n",
       "1  https://pbs.twimg.com/profile_banners/49079107...   \n",
       "2  https://pbs.twimg.com/profile_banners/26441631...   \n",
       "3                                                NaN   \n",
       "4  https://pbs.twimg.com/profile_banners/27160832...   \n",
       "\n",
       "                                   profile_image_url  \\\n",
       "0  http://pbs.twimg.com/profile_images/4776662828...   \n",
       "1  http://pbs.twimg.com/profile_images/5097227545...   \n",
       "2  http://pbs.twimg.com/profile_images/5127311352...   \n",
       "3  http://pbs.twimg.com/profile_images/4939742059...   \n",
       "4  http://pbs.twimg.com/profile_images/4627093362...   \n",
       "\n",
       "                             profile_image_url_https profile_link_color  \\\n",
       "0  https://pbs.twimg.com/profile_images/477666282...             009999   \n",
       "1  https://pbs.twimg.com/profile_images/509722754...             2FC2EF   \n",
       "2  https://pbs.twimg.com/profile_images/512731135...             CE7834   \n",
       "3  https://pbs.twimg.com/profile_images/493974205...             009999   \n",
       "4  https://pbs.twimg.com/profile_images/462709336...             D62D0F   \n",
       "\n",
       "  profile_sidebar_border_color profile_sidebar_fill_color profile_text_color  \\\n",
       "0                       EEEEEE                     EFEFEF             333333   \n",
       "1                       181A1E                     252429             666666   \n",
       "2                       F0A830                     78C0A8             5E412F   \n",
       "3                       FFFFFF                     EFEFEF             333333   \n",
       "4                       000000                     000000             A3A3A3   \n",
       "\n",
       "   profile_use_background_image  protected      screen_name  \\\n",
       "0                          True      False  agregtoremember   \n",
       "1                          True      False       C_Guffieee   \n",
       "2                          True      False      _Starqueria   \n",
       "3                          True      False        Keeleesha   \n",
       "4                          True      False      KeeLashawn_   \n",
       "\n",
       "                                              status  statuses_count  \\\n",
       "0  {'retweeted_status': {'retweet_count': 452, 'c...           12230   \n",
       "1  {'retweet_count': 0, 'created_at': 'Fri Sep 26...           14680   \n",
       "2  {'retweeted_status': {'retweet_count': 2614, '...           22857   \n",
       "3  {'retweet_count': 0, 'entities': {'urls': [], ...           71654   \n",
       "4  {'retweet_count': 0, 'entities': {'urls': [{'e...           48452   \n",
       "\n",
       "                    time_zone   url  utc_offset  verified  \n",
       "0      Atlantic Time (Canada)  None    -10800.0     False  \n",
       "1                      Hawaii  None    -36000.0     False  \n",
       "2                      Hawaii  None    -36000.0     False  \n",
       "3  Eastern Time (US & Canada)  None    -14400.0     False  \n",
       "4  Eastern Time (US & Canada)  None    -14400.0     False  "
      ]
     },
     "execution_count": 8,
     "metadata": {},
     "output_type": "execute_result"
    }
   ],
   "source": [
    "df_o.head()"
   ]
  },
  {
   "cell_type": "code",
   "execution_count": 9,
   "metadata": {
    "collapsed": true
   },
   "outputs": [],
   "source": [
    "df2 =df[['user','text']]"
   ]
  },
  {
   "cell_type": "code",
   "execution_count": 10,
   "metadata": {
    "collapsed": true
   },
   "outputs": [],
   "source": [
    "df_o2 =df_o[['id','description']]\n",
    "df_o2 = df_o2.rename(columns={'id': 'ID'})"
   ]
  },
  {
   "cell_type": "code",
   "execution_count": 11,
   "metadata": {},
   "outputs": [
    {
     "data": {
      "text/html": [
       "<div>\n",
       "<style>\n",
       "    .dataframe thead tr:only-child th {\n",
       "        text-align: right;\n",
       "    }\n",
       "\n",
       "    .dataframe thead th {\n",
       "        text-align: left;\n",
       "    }\n",
       "\n",
       "    .dataframe tbody tr th {\n",
       "        vertical-align: top;\n",
       "    }\n",
       "</style>\n",
       "<table border=\"1\" class=\"dataframe\">\n",
       "  <thead>\n",
       "    <tr style=\"text-align: right;\">\n",
       "      <th></th>\n",
       "      <th>user</th>\n",
       "      <th>text</th>\n",
       "    </tr>\n",
       "  </thead>\n",
       "  <tbody>\n",
       "    <tr>\n",
       "      <th>0</th>\n",
       "      <td>{'follow_request_sent': False, 'profile_image_...</td>\n",
       "      <td>RT @AlenaBacalia: i over think and second gues...</td>\n",
       "    </tr>\n",
       "    <tr>\n",
       "      <th>1</th>\n",
       "      <td>{'follow_request_sent': False, 'profile_image_...</td>\n",
       "      <td>RT @hfholden34: I've wasted too much time on t...</td>\n",
       "    </tr>\n",
       "    <tr>\n",
       "      <th>2</th>\n",
       "      <td>{'follow_request_sent': False, 'profile_image_...</td>\n",
       "      <td>I'm already gone.</td>\n",
       "    </tr>\n",
       "    <tr>\n",
       "      <th>3</th>\n",
       "      <td>{'follow_request_sent': False, 'profile_image_...</td>\n",
       "      <td>I'm already something to someone that I don't ...</td>\n",
       "    </tr>\n",
       "    <tr>\n",
       "      <th>4</th>\n",
       "      <td>{'follow_request_sent': False, 'profile_image_...</td>\n",
       "      <td>I don't know what I'm doing with my life, but ...</td>\n",
       "    </tr>\n",
       "  </tbody>\n",
       "</table>\n",
       "</div>"
      ],
      "text/plain": [
       "                                                user  \\\n",
       "0  {'follow_request_sent': False, 'profile_image_...   \n",
       "1  {'follow_request_sent': False, 'profile_image_...   \n",
       "2  {'follow_request_sent': False, 'profile_image_...   \n",
       "3  {'follow_request_sent': False, 'profile_image_...   \n",
       "4  {'follow_request_sent': False, 'profile_image_...   \n",
       "\n",
       "                                                text  \n",
       "0  RT @AlenaBacalia: i over think and second gues...  \n",
       "1  RT @hfholden34: I've wasted too much time on t...  \n",
       "2                                  I'm already gone.  \n",
       "3  I'm already something to someone that I don't ...  \n",
       "4  I don't know what I'm doing with my life, but ...  "
      ]
     },
     "execution_count": 11,
     "metadata": {},
     "output_type": "execute_result"
    }
   ],
   "source": [
    "pd.set_option('display.max_columns',None)\n",
    "df2.head()"
   ]
  },
  {
   "cell_type": "code",
   "execution_count": 12,
   "metadata": {},
   "outputs": [
    {
     "data": {
      "text/html": [
       "<div>\n",
       "<style>\n",
       "    .dataframe thead tr:only-child th {\n",
       "        text-align: right;\n",
       "    }\n",
       "\n",
       "    .dataframe thead th {\n",
       "        text-align: left;\n",
       "    }\n",
       "\n",
       "    .dataframe tbody tr th {\n",
       "        vertical-align: top;\n",
       "    }\n",
       "</style>\n",
       "<table border=\"1\" class=\"dataframe\">\n",
       "  <thead>\n",
       "    <tr style=\"text-align: right;\">\n",
       "      <th></th>\n",
       "      <th>ID</th>\n",
       "      <th>description</th>\n",
       "    </tr>\n",
       "  </thead>\n",
       "  <tbody>\n",
       "    <tr>\n",
       "      <th>0</th>\n",
       "      <td>612815277</td>\n",
       "      <td>You'll never find another one like me.</td>\n",
       "    </tr>\n",
       "    <tr>\n",
       "      <th>1</th>\n",
       "      <td>490791079</td>\n",
       "      <td>If you like me, i probably like you more. {IG:...</td>\n",
       "    </tr>\n",
       "    <tr>\n",
       "      <th>2</th>\n",
       "      <td>264416315</td>\n",
       "      <td>Success doesn’t come to you…you go to it.</td>\n",
       "    </tr>\n",
       "    <tr>\n",
       "      <th>3</th>\n",
       "      <td>97515432</td>\n",
       "      <td>NEVER care about what a person says that doesn...</td>\n",
       "    </tr>\n",
       "    <tr>\n",
       "      <th>4</th>\n",
       "      <td>271608323</td>\n",
       "      <td>these niggas some haters &amp; i made myself so ea...</td>\n",
       "    </tr>\n",
       "  </tbody>\n",
       "</table>\n",
       "</div>"
      ],
      "text/plain": [
       "          ID                                        description\n",
       "0  612815277             You'll never find another one like me.\n",
       "1  490791079  If you like me, i probably like you more. {IG:...\n",
       "2  264416315          Success doesn’t come to you…you go to it.\n",
       "3   97515432  NEVER care about what a person says that doesn...\n",
       "4  271608323  these niggas some haters & i made myself so ea..."
      ]
     },
     "execution_count": 12,
     "metadata": {},
     "output_type": "execute_result"
    }
   ],
   "source": [
    "df_o2.head()"
   ]
  },
  {
   "cell_type": "code",
   "execution_count": 13,
   "metadata": {},
   "outputs": [
    {
     "data": {
      "text/plain": [
       "(28138, 2)"
      ]
     },
     "execution_count": 13,
     "metadata": {},
     "output_type": "execute_result"
    }
   ],
   "source": [
    "df2.shape"
   ]
  },
  {
   "cell_type": "code",
   "execution_count": 14,
   "metadata": {},
   "outputs": [
    {
     "data": {
      "text/plain": [
       "(2410, 2)"
      ]
     },
     "execution_count": 14,
     "metadata": {},
     "output_type": "execute_result"
    }
   ],
   "source": [
    "df_o2.shape"
   ]
  },
  {
   "cell_type": "code",
   "execution_count": 15,
   "metadata": {},
   "outputs": [
    {
     "name": "stderr",
     "output_type": "stream",
     "text": [
      "/Users/gyang/anaconda/lib/python3.6/site-packages/ipykernel_launcher.py:1: SettingWithCopyWarning: \n",
      "A value is trying to be set on a copy of a slice from a DataFrame.\n",
      "Try using .loc[row_indexer,col_indexer] = value instead\n",
      "\n",
      "See the caveats in the documentation: http://pandas.pydata.org/pandas-docs/stable/indexing.html#indexing-view-versus-copy\n",
      "  \"\"\"Entry point for launching an IPython kernel.\n"
     ]
    }
   ],
   "source": [
    "df2['ID'] =df2['user'].apply(lambda x: x['id'])"
   ]
  },
  {
   "cell_type": "code",
   "execution_count": 16,
   "metadata": {},
   "outputs": [
    {
     "data": {
      "text/html": [
       "<div>\n",
       "<style>\n",
       "    .dataframe thead tr:only-child th {\n",
       "        text-align: right;\n",
       "    }\n",
       "\n",
       "    .dataframe thead th {\n",
       "        text-align: left;\n",
       "    }\n",
       "\n",
       "    .dataframe tbody tr th {\n",
       "        vertical-align: top;\n",
       "    }\n",
       "</style>\n",
       "<table border=\"1\" class=\"dataframe\">\n",
       "  <thead>\n",
       "    <tr style=\"text-align: right;\">\n",
       "      <th></th>\n",
       "      <th>user</th>\n",
       "      <th>text</th>\n",
       "      <th>ID</th>\n",
       "    </tr>\n",
       "  </thead>\n",
       "  <tbody>\n",
       "    <tr>\n",
       "      <th>0</th>\n",
       "      <td>{'follow_request_sent': False, 'profile_image_...</td>\n",
       "      <td>RT @AlenaBacalia: i over think and second gues...</td>\n",
       "      <td>612815277</td>\n",
       "    </tr>\n",
       "    <tr>\n",
       "      <th>1</th>\n",
       "      <td>{'follow_request_sent': False, 'profile_image_...</td>\n",
       "      <td>RT @hfholden34: I've wasted too much time on t...</td>\n",
       "      <td>612815277</td>\n",
       "    </tr>\n",
       "    <tr>\n",
       "      <th>2</th>\n",
       "      <td>{'follow_request_sent': False, 'profile_image_...</td>\n",
       "      <td>I'm already gone.</td>\n",
       "      <td>612815277</td>\n",
       "    </tr>\n",
       "    <tr>\n",
       "      <th>3</th>\n",
       "      <td>{'follow_request_sent': False, 'profile_image_...</td>\n",
       "      <td>I'm already something to someone that I don't ...</td>\n",
       "      <td>612815277</td>\n",
       "    </tr>\n",
       "    <tr>\n",
       "      <th>4</th>\n",
       "      <td>{'follow_request_sent': False, 'profile_image_...</td>\n",
       "      <td>I don't know what I'm doing with my life, but ...</td>\n",
       "      <td>612815277</td>\n",
       "    </tr>\n",
       "  </tbody>\n",
       "</table>\n",
       "</div>"
      ],
      "text/plain": [
       "                                                user  \\\n",
       "0  {'follow_request_sent': False, 'profile_image_...   \n",
       "1  {'follow_request_sent': False, 'profile_image_...   \n",
       "2  {'follow_request_sent': False, 'profile_image_...   \n",
       "3  {'follow_request_sent': False, 'profile_image_...   \n",
       "4  {'follow_request_sent': False, 'profile_image_...   \n",
       "\n",
       "                                                text         ID  \n",
       "0  RT @AlenaBacalia: i over think and second gues...  612815277  \n",
       "1  RT @hfholden34: I've wasted too much time on t...  612815277  \n",
       "2                                  I'm already gone.  612815277  \n",
       "3  I'm already something to someone that I don't ...  612815277  \n",
       "4  I don't know what I'm doing with my life, but ...  612815277  "
      ]
     },
     "execution_count": 16,
     "metadata": {},
     "output_type": "execute_result"
    }
   ],
   "source": [
    "df2.head()"
   ]
  },
  {
   "cell_type": "code",
   "execution_count": 17,
   "metadata": {
    "collapsed": true
   },
   "outputs": [],
   "source": [
    "df3 =df2[['ID','text']]"
   ]
  },
  {
   "cell_type": "code",
   "execution_count": 18,
   "metadata": {},
   "outputs": [
    {
     "data": {
      "text/html": [
       "<div>\n",
       "<style>\n",
       "    .dataframe thead tr:only-child th {\n",
       "        text-align: right;\n",
       "    }\n",
       "\n",
       "    .dataframe thead th {\n",
       "        text-align: left;\n",
       "    }\n",
       "\n",
       "    .dataframe tbody tr th {\n",
       "        vertical-align: top;\n",
       "    }\n",
       "</style>\n",
       "<table border=\"1\" class=\"dataframe\">\n",
       "  <thead>\n",
       "    <tr style=\"text-align: right;\">\n",
       "      <th></th>\n",
       "      <th>ID</th>\n",
       "      <th>text</th>\n",
       "    </tr>\n",
       "  </thead>\n",
       "  <tbody>\n",
       "    <tr>\n",
       "      <th>0</th>\n",
       "      <td>612815277</td>\n",
       "      <td>RT @AlenaBacalia: i over think and second gues...</td>\n",
       "    </tr>\n",
       "    <tr>\n",
       "      <th>1</th>\n",
       "      <td>612815277</td>\n",
       "      <td>RT @hfholden34: I've wasted too much time on t...</td>\n",
       "    </tr>\n",
       "    <tr>\n",
       "      <th>2</th>\n",
       "      <td>612815277</td>\n",
       "      <td>I'm already gone.</td>\n",
       "    </tr>\n",
       "    <tr>\n",
       "      <th>3</th>\n",
       "      <td>612815277</td>\n",
       "      <td>I'm already something to someone that I don't ...</td>\n",
       "    </tr>\n",
       "    <tr>\n",
       "      <th>4</th>\n",
       "      <td>612815277</td>\n",
       "      <td>I don't know what I'm doing with my life, but ...</td>\n",
       "    </tr>\n",
       "  </tbody>\n",
       "</table>\n",
       "</div>"
      ],
      "text/plain": [
       "          ID                                               text\n",
       "0  612815277  RT @AlenaBacalia: i over think and second gues...\n",
       "1  612815277  RT @hfholden34: I've wasted too much time on t...\n",
       "2  612815277                                  I'm already gone.\n",
       "3  612815277  I'm already something to someone that I don't ...\n",
       "4  612815277  I don't know what I'm doing with my life, but ..."
      ]
     },
     "execution_count": 18,
     "metadata": {},
     "output_type": "execute_result"
    }
   ],
   "source": [
    "df3.head()"
   ]
  },
  {
   "cell_type": "code",
   "execution_count": 19,
   "metadata": {},
   "outputs": [
    {
     "data": {
      "text/plain": [
       "(28138, 2)"
      ]
     },
     "execution_count": 19,
     "metadata": {},
     "output_type": "execute_result"
    }
   ],
   "source": [
    "df3.shape"
   ]
  },
  {
   "cell_type": "markdown",
   "metadata": {},
   "source": [
    "### Data Cleansing - 20 points"
   ]
  },
  {
   "cell_type": "code",
   "execution_count": 20,
   "metadata": {
    "collapsed": true
   },
   "outputs": [],
   "source": [
    "df4 =pd.DataFrame({'words':df3.groupby('ID')['text'].apply(','.join)}).reset_index()"
   ]
  },
  {
   "cell_type": "code",
   "execution_count": 21,
   "metadata": {},
   "outputs": [
    {
     "data": {
      "text/html": [
       "<div>\n",
       "<style>\n",
       "    .dataframe thead tr:only-child th {\n",
       "        text-align: right;\n",
       "    }\n",
       "\n",
       "    .dataframe thead th {\n",
       "        text-align: left;\n",
       "    }\n",
       "\n",
       "    .dataframe tbody tr th {\n",
       "        vertical-align: top;\n",
       "    }\n",
       "</style>\n",
       "<table border=\"1\" class=\"dataframe\">\n",
       "  <thead>\n",
       "    <tr style=\"text-align: right;\">\n",
       "      <th></th>\n",
       "      <th>ID</th>\n",
       "      <th>words</th>\n",
       "    </tr>\n",
       "  </thead>\n",
       "  <tbody>\n",
       "    <tr>\n",
       "      <th>0</th>\n",
       "      <td>2025381</td>\n",
       "      <td>@Eukadanz Target gift card or Amazon egift car...</td>\n",
       "    </tr>\n",
       "    <tr>\n",
       "      <th>1</th>\n",
       "      <td>14367721</td>\n",
       "      <td>After three weeks I once again hear Dutch peop...</td>\n",
       "    </tr>\n",
       "    <tr>\n",
       "      <th>2</th>\n",
       "      <td>14463854</td>\n",
       "      <td>What up, Oakland?,Where are the best lox in SF...</td>\n",
       "    </tr>\n",
       "    <tr>\n",
       "      <th>3</th>\n",
       "      <td>14691071</td>\n",
       "      <td>RT @SeattleCoffey: @lindseyhauschka - Get the ...</td>\n",
       "    </tr>\n",
       "    <tr>\n",
       "      <th>4</th>\n",
       "      <td>15175682</td>\n",
       "      <td>@JAY_LOVE012 😘😘😘,@IndiaAlmighty thank you babe...</td>\n",
       "    </tr>\n",
       "  </tbody>\n",
       "</table>\n",
       "</div>"
      ],
      "text/plain": [
       "         ID                                              words\n",
       "0   2025381  @Eukadanz Target gift card or Amazon egift car...\n",
       "1  14367721  After three weeks I once again hear Dutch peop...\n",
       "2  14463854  What up, Oakland?,Where are the best lox in SF...\n",
       "3  14691071  RT @SeattleCoffey: @lindseyhauschka - Get the ...\n",
       "4  15175682  @JAY_LOVE012 😘😘😘,@IndiaAlmighty thank you babe..."
      ]
     },
     "execution_count": 21,
     "metadata": {},
     "output_type": "execute_result"
    }
   ],
   "source": [
    "df4.head()"
   ]
  },
  {
   "cell_type": "code",
   "execution_count": 22,
   "metadata": {},
   "outputs": [
    {
     "data": {
      "text/plain": [
       "(2195, 2)"
      ]
     },
     "execution_count": 22,
     "metadata": {},
     "output_type": "execute_result"
    }
   ],
   "source": [
    "df4.shape"
   ]
  },
  {
   "cell_type": "code",
   "execution_count": 23,
   "metadata": {},
   "outputs": [
    {
     "data": {
      "text/html": [
       "<div>\n",
       "<style>\n",
       "    .dataframe thead tr:only-child th {\n",
       "        text-align: right;\n",
       "    }\n",
       "\n",
       "    .dataframe thead th {\n",
       "        text-align: left;\n",
       "    }\n",
       "\n",
       "    .dataframe tbody tr th {\n",
       "        vertical-align: top;\n",
       "    }\n",
       "</style>\n",
       "<table border=\"1\" class=\"dataframe\">\n",
       "  <thead>\n",
       "    <tr style=\"text-align: right;\">\n",
       "      <th></th>\n",
       "      <th>ID</th>\n",
       "      <th>Age</th>\n",
       "    </tr>\n",
       "  </thead>\n",
       "  <tbody>\n",
       "    <tr>\n",
       "      <th>0</th>\n",
       "      <td>23605717</td>\n",
       "      <td>21</td>\n",
       "    </tr>\n",
       "    <tr>\n",
       "      <th>1</th>\n",
       "      <td>781084760</td>\n",
       "      <td>19</td>\n",
       "    </tr>\n",
       "    <tr>\n",
       "      <th>2</th>\n",
       "      <td>102262916</td>\n",
       "      <td>21</td>\n",
       "    </tr>\n",
       "    <tr>\n",
       "      <th>3</th>\n",
       "      <td>413710015</td>\n",
       "      <td>21</td>\n",
       "    </tr>\n",
       "    <tr>\n",
       "      <th>4</th>\n",
       "      <td>584304916</td>\n",
       "      <td>90</td>\n",
       "    </tr>\n",
       "  </tbody>\n",
       "</table>\n",
       "</div>"
      ],
      "text/plain": [
       "          ID  Age\n",
       "0   23605717   21\n",
       "1  781084760   19\n",
       "2  102262916   21\n",
       "3  413710015   21\n",
       "4  584304916   90"
      ]
     },
     "execution_count": 23,
     "metadata": {},
     "output_type": "execute_result"
    }
   ],
   "source": [
    "#read USER_AGES csv file\n",
    "user_ages =pd.read_csv('/Users/gyang/Desktop/ProjectDataScience/HW/HW5/hw5data/user_ages.csv')\n",
    "user_ages.head()"
   ]
  },
  {
   "cell_type": "code",
   "execution_count": 24,
   "metadata": {},
   "outputs": [
    {
     "data": {
      "text/plain": [
       "(1711, 2)"
      ]
     },
     "execution_count": 24,
     "metadata": {},
     "output_type": "execute_result"
    }
   ],
   "source": [
    "user_ages.shape"
   ]
  },
  {
   "cell_type": "code",
   "execution_count": 62,
   "metadata": {},
   "outputs": [
    {
     "data": {
      "image/png": "[encoded data removed]",
      "text/plain": [
       "<matplotlib.figure.Figure at 0x1a4aaf51d0>"
      ]
     },
     "metadata": {},
     "output_type": "display_data"
    }
   ],
   "source": [
    "sns.set()\n",
    "_ =plt.hist(user_ages['Age'],edgecolor='black',bins =20)\n",
    "_ =plt.xlabel('Age')\n",
    "_ =plt.ylabel('Counts')\n",
    "_ =plt.title('Tweets Age Histogram Distribution')\n",
    "plt.show()"
   ]
  },
  {
   "cell_type": "code",
   "execution_count": 26,
   "metadata": {
    "collapsed": true
   },
   "outputs": [],
   "source": [
    "#merge dataset\n",
    "total_0 =pd.merge(user_ages, df4, on='ID', how='left')"
   ]
  },
  {
   "cell_type": "code",
   "execution_count": 27,
   "metadata": {
    "collapsed": true
   },
   "outputs": [],
   "source": [
    "total_1 =pd.merge(total_0,df_o2,on='ID', how='left')"
   ]
  },
  {
   "cell_type": "code",
   "execution_count": 28,
   "metadata": {},
   "outputs": [
    {
     "data": {
      "text/plain": [
       "(1711, 4)"
      ]
     },
     "execution_count": 28,
     "metadata": {},
     "output_type": "execute_result"
    }
   ],
   "source": [
    "total_1.shape"
   ]
  },
  {
   "cell_type": "code",
   "execution_count": 29,
   "metadata": {
    "collapsed": true
   },
   "outputs": [],
   "source": [
    "#combine words and description column into --> texts column\n",
    "total_1['texts'] = total_1.words.str.cat(total_1.description)"
   ]
  },
  {
   "cell_type": "code",
   "execution_count": 30,
   "metadata": {},
   "outputs": [
    {
     "data": {
      "text/html": [
       "<div>\n",
       "<style>\n",
       "    .dataframe thead tr:only-child th {\n",
       "        text-align: right;\n",
       "    }\n",
       "\n",
       "    .dataframe thead th {\n",
       "        text-align: left;\n",
       "    }\n",
       "\n",
       "    .dataframe tbody tr th {\n",
       "        vertical-align: top;\n",
       "    }\n",
       "</style>\n",
       "<table border=\"1\" class=\"dataframe\">\n",
       "  <thead>\n",
       "    <tr style=\"text-align: right;\">\n",
       "      <th></th>\n",
       "      <th>ID</th>\n",
       "      <th>Age</th>\n",
       "      <th>words</th>\n",
       "      <th>description</th>\n",
       "      <th>texts</th>\n",
       "    </tr>\n",
       "  </thead>\n",
       "  <tbody>\n",
       "    <tr>\n",
       "      <th>0</th>\n",
       "      <td>23605717</td>\n",
       "      <td>21</td>\n",
       "      <td>RT @studentNT: @leannesiekiera Me too! I'm chi...</td>\n",
       "      <td>Mom and Wife / 3rd year stn. Adult branch edit...</td>\n",
       "      <td>RT @studentNT: @leannesiekiera Me too! I'm chi...</td>\n",
       "    </tr>\n",
       "    <tr>\n",
       "      <th>1</th>\n",
       "      <td>781084760</td>\n",
       "      <td>19</td>\n",
       "      <td>@fallonperl I miss you too Fallon! Thanks!,RT ...</td>\n",
       "      <td>6'9 F for the University of Illinois-Chicago. ...</td>\n",
       "      <td>@fallonperl I miss you too Fallon! Thanks!,RT ...</td>\n",
       "    </tr>\n",
       "    <tr>\n",
       "      <th>2</th>\n",
       "      <td>102262916</td>\n",
       "      <td>21</td>\n",
       "      <td>On another note, I need to dye my hair.,Andrew...</td>\n",
       "      <td>Detonate together, collapse together, and melt...</td>\n",
       "      <td>On another note, I need to dye my hair.,Andrew...</td>\n",
       "    </tr>\n",
       "    <tr>\n",
       "      <th>3</th>\n",
       "      <td>413710015</td>\n",
       "      <td>21</td>\n",
       "      <td>I really have the sweetest boyfriend. He is tr...</td>\n",
       "      <td></td>\n",
       "      <td>I really have the sweetest boyfriend. He is tr...</td>\n",
       "    </tr>\n",
       "    <tr>\n",
       "      <th>4</th>\n",
       "      <td>584304916</td>\n",
       "      <td>90</td>\n",
       "      <td>If I stay ruined my life,RT @OTHdiary: \"The wo...</td>\n",
       "      <td>mhs varsity cheerleader ☻</td>\n",
       "      <td>If I stay ruined my life,RT @OTHdiary: \"The wo...</td>\n",
       "    </tr>\n",
       "  </tbody>\n",
       "</table>\n",
       "</div>"
      ],
      "text/plain": [
       "          ID  Age                                              words  \\\n",
       "0   23605717   21  RT @studentNT: @leannesiekiera Me too! I'm chi...   \n",
       "1  781084760   19  @fallonperl I miss you too Fallon! Thanks!,RT ...   \n",
       "2  102262916   21  On another note, I need to dye my hair.,Andrew...   \n",
       "3  413710015   21  I really have the sweetest boyfriend. He is tr...   \n",
       "4  584304916   90  If I stay ruined my life,RT @OTHdiary: \"The wo...   \n",
       "\n",
       "                                         description  \\\n",
       "0  Mom and Wife / 3rd year stn. Adult branch edit...   \n",
       "1  6'9 F for the University of Illinois-Chicago. ...   \n",
       "2  Detonate together, collapse together, and melt...   \n",
       "3                                                      \n",
       "4                          mhs varsity cheerleader ☻   \n",
       "\n",
       "                                               texts  \n",
       "0  RT @studentNT: @leannesiekiera Me too! I'm chi...  \n",
       "1  @fallonperl I miss you too Fallon! Thanks!,RT ...  \n",
       "2  On another note, I need to dye my hair.,Andrew...  \n",
       "3  I really have the sweetest boyfriend. He is tr...  \n",
       "4  If I stay ruined my life,RT @OTHdiary: \"The wo...  "
      ]
     },
     "execution_count": 30,
     "metadata": {},
     "output_type": "execute_result"
    }
   ],
   "source": [
    "total_1.head()"
   ]
  },
  {
   "cell_type": "code",
   "execution_count": 31,
   "metadata": {
    "collapsed": true
   },
   "outputs": [],
   "source": [
    "total =total_1[['ID','Age','texts']]"
   ]
  },
  {
   "cell_type": "markdown",
   "metadata": {},
   "source": [
    "### Transform data and Train a model - 20 points"
   ]
  },
  {
   "cell_type": "code",
   "execution_count": 32,
   "metadata": {
    "collapsed": true
   },
   "outputs": [],
   "source": [
    "total2 =total.copy()"
   ]
  },
  {
   "cell_type": "code",
   "execution_count": 33,
   "metadata": {},
   "outputs": [
    {
     "data": {
      "text/html": [
       "<div>\n",
       "<style>\n",
       "    .dataframe thead tr:only-child th {\n",
       "        text-align: right;\n",
       "    }\n",
       "\n",
       "    .dataframe thead th {\n",
       "        text-align: left;\n",
       "    }\n",
       "\n",
       "    .dataframe tbody tr th {\n",
       "        vertical-align: top;\n",
       "    }\n",
       "</style>\n",
       "<table border=\"1\" class=\"dataframe\">\n",
       "  <thead>\n",
       "    <tr style=\"text-align: right;\">\n",
       "      <th></th>\n",
       "      <th>ID</th>\n",
       "      <th>Age</th>\n",
       "      <th>texts</th>\n",
       "    </tr>\n",
       "  </thead>\n",
       "  <tbody>\n",
       "    <tr>\n",
       "      <th>0</th>\n",
       "      <td>23605717</td>\n",
       "      <td>21</td>\n",
       "      <td>RT @studentNT: @leannesiekiera Me too! I'm chi...</td>\n",
       "    </tr>\n",
       "    <tr>\n",
       "      <th>1</th>\n",
       "      <td>781084760</td>\n",
       "      <td>19</td>\n",
       "      <td>@fallonperl I miss you too Fallon! Thanks!,RT ...</td>\n",
       "    </tr>\n",
       "    <tr>\n",
       "      <th>2</th>\n",
       "      <td>102262916</td>\n",
       "      <td>21</td>\n",
       "      <td>On another note, I need to dye my hair.,Andrew...</td>\n",
       "    </tr>\n",
       "    <tr>\n",
       "      <th>3</th>\n",
       "      <td>413710015</td>\n",
       "      <td>21</td>\n",
       "      <td>I really have the sweetest boyfriend. He is tr...</td>\n",
       "    </tr>\n",
       "    <tr>\n",
       "      <th>4</th>\n",
       "      <td>584304916</td>\n",
       "      <td>90</td>\n",
       "      <td>If I stay ruined my life,RT @OTHdiary: \"The wo...</td>\n",
       "    </tr>\n",
       "  </tbody>\n",
       "</table>\n",
       "</div>"
      ],
      "text/plain": [
       "          ID  Age                                              texts\n",
       "0   23605717   21  RT @studentNT: @leannesiekiera Me too! I'm chi...\n",
       "1  781084760   19  @fallonperl I miss you too Fallon! Thanks!,RT ...\n",
       "2  102262916   21  On another note, I need to dye my hair.,Andrew...\n",
       "3  413710015   21  I really have the sweetest boyfriend. He is tr...\n",
       "4  584304916   90  If I stay ruined my life,RT @OTHdiary: \"The wo..."
      ]
     },
     "execution_count": 33,
     "metadata": {},
     "output_type": "execute_result"
    }
   ],
   "source": [
    "total2.head()"
   ]
  },
  {
   "cell_type": "code",
   "execution_count": 34,
   "metadata": {},
   "outputs": [
    {
     "data": {
      "text/plain": [
       "pandas.core.series.Series"
      ]
     },
     "execution_count": 34,
     "metadata": {},
     "output_type": "execute_result"
    }
   ],
   "source": [
    "type(total2['texts'])"
   ]
  },
  {
   "cell_type": "code",
   "execution_count": 35,
   "metadata": {
    "collapsed": true
   },
   "outputs": [],
   "source": [
    "total2['texts'] =total2['texts'].apply(lambda x: str(x).lower()) #lower case\n",
    "total2['texts'] =total2['texts'].replace(r'http\\S+', '', regex=True) #remove URLs\n",
    "total2['texts'] =total2['texts'].map(lambda x: re.sub(r'[^a-zA-Z]+', ' ',x)) #remove special characters\n",
    "total2['texts'] =total2['texts'].replace(r'\\b\\w\\b','').str.replace(r'\\s+', ' ') #remove single letter"
   ]
  },
  {
   "cell_type": "code",
   "execution_count": 36,
   "metadata": {
    "collapsed": true
   },
   "outputs": [],
   "source": [
    "stop = set(stopwords.words('english'))"
   ]
  },
  {
   "cell_type": "code",
   "execution_count": 37,
   "metadata": {
    "collapsed": true
   },
   "outputs": [],
   "source": [
    "#remove stopwords\n",
    "total2['tweet_without_stopwords'] = total2['texts'].apply(lambda x: ' '.join([word for word in x.split() if word not in (stop)]))"
   ]
  },
  {
   "cell_type": "code",
   "execution_count": 38,
   "metadata": {
    "collapsed": true
   },
   "outputs": [],
   "source": [
    "#remove RT\n",
    "total2['tweet_without_stopwords'] =total2['tweet_without_stopwords'].str.replace(r'rt','')"
   ]
  },
  {
   "cell_type": "code",
   "execution_count": 39,
   "metadata": {},
   "outputs": [
    {
     "data": {
      "text/html": [
       "<div>\n",
       "<style>\n",
       "    .dataframe thead tr:only-child th {\n",
       "        text-align: right;\n",
       "    }\n",
       "\n",
       "    .dataframe thead th {\n",
       "        text-align: left;\n",
       "    }\n",
       "\n",
       "    .dataframe tbody tr th {\n",
       "        vertical-align: top;\n",
       "    }\n",
       "</style>\n",
       "<table border=\"1\" class=\"dataframe\">\n",
       "  <thead>\n",
       "    <tr style=\"text-align: right;\">\n",
       "      <th></th>\n",
       "      <th>ID</th>\n",
       "      <th>Age</th>\n",
       "      <th>texts</th>\n",
       "      <th>tweet_without_stopwords</th>\n",
       "    </tr>\n",
       "  </thead>\n",
       "  <tbody>\n",
       "    <tr>\n",
       "      <th>0</th>\n",
       "      <td>23605717</td>\n",
       "      <td>21</td>\n",
       "      <td>rt studentnt leannesiekiera me too i m child b...</td>\n",
       "      <td>studentnt leannesiekiera child branch one fir...</td>\n",
       "    </tr>\n",
       "    <tr>\n",
       "      <th>1</th>\n",
       "      <td>781084760</td>\n",
       "      <td>19</td>\n",
       "      <td>fallonperl i miss you too fallon thanks rt de...</td>\n",
       "      <td>fallonperl miss fallon thanks  deucce happy gl...</td>\n",
       "    </tr>\n",
       "    <tr>\n",
       "      <th>2</th>\n",
       "      <td>102262916</td>\n",
       "      <td>21</td>\n",
       "      <td>on another note i need to dye my hair andrew a...</td>\n",
       "      <td>another note need dye hair andrew true love wa...</td>\n",
       "    </tr>\n",
       "    <tr>\n",
       "      <th>3</th>\n",
       "      <td>413710015</td>\n",
       "      <td>21</td>\n",
       "      <td>i really have the sweetest boyfriend he is tru...</td>\n",
       "      <td>really sweetest boyfriend truly wonderful watc...</td>\n",
       "    </tr>\n",
       "    <tr>\n",
       "      <th>4</th>\n",
       "      <td>584304916</td>\n",
       "      <td>90</td>\n",
       "      <td>if i stay ruined my life rt othdiary the world...</td>\n",
       "      <td>stay ruined life  othdiary world full magic be...</td>\n",
       "    </tr>\n",
       "  </tbody>\n",
       "</table>\n",
       "</div>"
      ],
      "text/plain": [
       "          ID  Age                                              texts  \\\n",
       "0   23605717   21  rt studentnt leannesiekiera me too i m child b...   \n",
       "1  781084760   19   fallonperl i miss you too fallon thanks rt de...   \n",
       "2  102262916   21  on another note i need to dye my hair andrew a...   \n",
       "3  413710015   21  i really have the sweetest boyfriend he is tru...   \n",
       "4  584304916   90  if i stay ruined my life rt othdiary the world...   \n",
       "\n",
       "                             tweet_without_stopwords  \n",
       "0   studentnt leannesiekiera child branch one fir...  \n",
       "1  fallonperl miss fallon thanks  deucce happy gl...  \n",
       "2  another note need dye hair andrew true love wa...  \n",
       "3  really sweetest boyfriend truly wonderful watc...  \n",
       "4  stay ruined life  othdiary world full magic be...  "
      ]
     },
     "execution_count": 39,
     "metadata": {},
     "output_type": "execute_result"
    }
   ],
   "source": [
    "total2.head()"
   ]
  },
  {
   "cell_type": "code",
   "execution_count": 40,
   "metadata": {
    "collapsed": true
   },
   "outputs": [],
   "source": [
    "# create ageband:\n",
    "\n",
    "def ageband(x):\n",
    "    if x in range(18,25):\n",
    "        return 'A'\n",
    "    elif x in range(25,35):\n",
    "        return 'B'\n",
    "    elif x in range(35,45):\n",
    "        return 'C'\n",
    "    elif x in range(45,55):\n",
    "        return 'D'\n",
    "    elif x in range(55,65):\n",
    "        return 'E'\n",
    "    elif x >= 65:\n",
    "        return 'F'"
   ]
  },
  {
   "cell_type": "code",
   "execution_count": 41,
   "metadata": {
    "collapsed": true
   },
   "outputs": [],
   "source": [
    "total2['ageband'] =total2['Age'].apply(lambda x :ageband(x))"
   ]
  },
  {
   "cell_type": "code",
   "execution_count": 42,
   "metadata": {},
   "outputs": [
    {
     "data": {
      "text/html": [
       "<div>\n",
       "<style>\n",
       "    .dataframe thead tr:only-child th {\n",
       "        text-align: right;\n",
       "    }\n",
       "\n",
       "    .dataframe thead th {\n",
       "        text-align: left;\n",
       "    }\n",
       "\n",
       "    .dataframe tbody tr th {\n",
       "        vertical-align: top;\n",
       "    }\n",
       "</style>\n",
       "<table border=\"1\" class=\"dataframe\">\n",
       "  <thead>\n",
       "    <tr style=\"text-align: right;\">\n",
       "      <th></th>\n",
       "      <th>ID</th>\n",
       "      <th>Age</th>\n",
       "      <th>texts</th>\n",
       "      <th>tweet_without_stopwords</th>\n",
       "      <th>ageband</th>\n",
       "    </tr>\n",
       "  </thead>\n",
       "  <tbody>\n",
       "    <tr>\n",
       "      <th>0</th>\n",
       "      <td>23605717</td>\n",
       "      <td>21</td>\n",
       "      <td>rt studentnt leannesiekiera me too i m child b...</td>\n",
       "      <td>studentnt leannesiekiera child branch one fir...</td>\n",
       "      <td>A</td>\n",
       "    </tr>\n",
       "    <tr>\n",
       "      <th>1</th>\n",
       "      <td>781084760</td>\n",
       "      <td>19</td>\n",
       "      <td>fallonperl i miss you too fallon thanks rt de...</td>\n",
       "      <td>fallonperl miss fallon thanks  deucce happy gl...</td>\n",
       "      <td>A</td>\n",
       "    </tr>\n",
       "    <tr>\n",
       "      <th>2</th>\n",
       "      <td>102262916</td>\n",
       "      <td>21</td>\n",
       "      <td>on another note i need to dye my hair andrew a...</td>\n",
       "      <td>another note need dye hair andrew true love wa...</td>\n",
       "      <td>A</td>\n",
       "    </tr>\n",
       "    <tr>\n",
       "      <th>3</th>\n",
       "      <td>413710015</td>\n",
       "      <td>21</td>\n",
       "      <td>i really have the sweetest boyfriend he is tru...</td>\n",
       "      <td>really sweetest boyfriend truly wonderful watc...</td>\n",
       "      <td>A</td>\n",
       "    </tr>\n",
       "    <tr>\n",
       "      <th>4</th>\n",
       "      <td>584304916</td>\n",
       "      <td>90</td>\n",
       "      <td>if i stay ruined my life rt othdiary the world...</td>\n",
       "      <td>stay ruined life  othdiary world full magic be...</td>\n",
       "      <td>F</td>\n",
       "    </tr>\n",
       "    <tr>\n",
       "      <th>5</th>\n",
       "      <td>546358433</td>\n",
       "      <td>19</td>\n",
       "      <td>rt diaryforteens boys need to understand this ...</td>\n",
       "      <td>diaryfoeens boys need understand caption tho ...</td>\n",
       "      <td>A</td>\n",
       "    </tr>\n",
       "    <tr>\n",
       "      <th>6</th>\n",
       "      <td>107138411</td>\n",
       "      <td>21</td>\n",
       "      <td>these bitches have nothing on bitches in cali ...</td>\n",
       "      <td>bitches nothing bitches cali nigga never seen ...</td>\n",
       "      <td>A</td>\n",
       "    </tr>\n",
       "    <tr>\n",
       "      <th>7</th>\n",
       "      <td>722121962</td>\n",
       "      <td>20</td>\n",
       "      <td>awes la thank you love you too why does every...</td>\n",
       "      <td>awes la thank love everybody annoying get welp...</td>\n",
       "      <td>A</td>\n",
       "    </tr>\n",
       "    <tr>\n",
       "      <th>8</th>\n",
       "      <td>88324161</td>\n",
       "      <td>21</td>\n",
       "      <td>nan</td>\n",
       "      <td>nan</td>\n",
       "      <td>A</td>\n",
       "    </tr>\n",
       "    <tr>\n",
       "      <th>9</th>\n",
       "      <td>116306471</td>\n",
       "      <td>24</td>\n",
       "      <td>it s about that time nolenation fearthespear f...</td>\n",
       "      <td>time nolenation feahespear floridastate cowboy...</td>\n",
       "      <td>A</td>\n",
       "    </tr>\n",
       "  </tbody>\n",
       "</table>\n",
       "</div>"
      ],
      "text/plain": [
       "          ID  Age                                              texts  \\\n",
       "0   23605717   21  rt studentnt leannesiekiera me too i m child b...   \n",
       "1  781084760   19   fallonperl i miss you too fallon thanks rt de...   \n",
       "2  102262916   21  on another note i need to dye my hair andrew a...   \n",
       "3  413710015   21  i really have the sweetest boyfriend he is tru...   \n",
       "4  584304916   90  if i stay ruined my life rt othdiary the world...   \n",
       "5  546358433   19  rt diaryforteens boys need to understand this ...   \n",
       "6  107138411   21  these bitches have nothing on bitches in cali ...   \n",
       "7  722121962   20   awes la thank you love you too why does every...   \n",
       "8   88324161   21                                                nan   \n",
       "9  116306471   24  it s about that time nolenation fearthespear f...   \n",
       "\n",
       "                             tweet_without_stopwords ageband  \n",
       "0   studentnt leannesiekiera child branch one fir...       A  \n",
       "1  fallonperl miss fallon thanks  deucce happy gl...       A  \n",
       "2  another note need dye hair andrew true love wa...       A  \n",
       "3  really sweetest boyfriend truly wonderful watc...       A  \n",
       "4  stay ruined life  othdiary world full magic be...       F  \n",
       "5   diaryfoeens boys need understand caption tho ...       A  \n",
       "6  bitches nothing bitches cali nigga never seen ...       A  \n",
       "7  awes la thank love everybody annoying get welp...       A  \n",
       "8                                                nan       A  \n",
       "9  time nolenation feahespear floridastate cowboy...       A  "
      ]
     },
     "execution_count": 42,
     "metadata": {},
     "output_type": "execute_result"
    }
   ],
   "source": [
    "total2.head(10)"
   ]
  },
  {
   "cell_type": "code",
   "execution_count": 43,
   "metadata": {
    "collapsed": true
   },
   "outputs": [],
   "source": [
    "total3 =total2[['ID','Age','ageband','tweet_without_stopwords']]"
   ]
  },
  {
   "cell_type": "code",
   "execution_count": 44,
   "metadata": {
    "collapsed": true
   },
   "outputs": [],
   "source": [
    "#total3.set_index('ID', inplace=True)"
   ]
  },
  {
   "cell_type": "code",
   "execution_count": 45,
   "metadata": {},
   "outputs": [
    {
     "data": {
      "text/html": [
       "<div>\n",
       "<style>\n",
       "    .dataframe thead tr:only-child th {\n",
       "        text-align: right;\n",
       "    }\n",
       "\n",
       "    .dataframe thead th {\n",
       "        text-align: left;\n",
       "    }\n",
       "\n",
       "    .dataframe tbody tr th {\n",
       "        vertical-align: top;\n",
       "    }\n",
       "</style>\n",
       "<table border=\"1\" class=\"dataframe\">\n",
       "  <thead>\n",
       "    <tr style=\"text-align: right;\">\n",
       "      <th></th>\n",
       "      <th>ID</th>\n",
       "      <th>Age</th>\n",
       "      <th>ageband</th>\n",
       "      <th>tweet_without_stopwords</th>\n",
       "    </tr>\n",
       "  </thead>\n",
       "  <tbody>\n",
       "    <tr>\n",
       "      <th>0</th>\n",
       "      <td>23605717</td>\n",
       "      <td>21</td>\n",
       "      <td>A</td>\n",
       "      <td>studentnt leannesiekiera child branch one fir...</td>\n",
       "    </tr>\n",
       "    <tr>\n",
       "      <th>1</th>\n",
       "      <td>781084760</td>\n",
       "      <td>19</td>\n",
       "      <td>A</td>\n",
       "      <td>fallonperl miss fallon thanks  deucce happy gl...</td>\n",
       "    </tr>\n",
       "    <tr>\n",
       "      <th>2</th>\n",
       "      <td>102262916</td>\n",
       "      <td>21</td>\n",
       "      <td>A</td>\n",
       "      <td>another note need dye hair andrew true love wa...</td>\n",
       "    </tr>\n",
       "    <tr>\n",
       "      <th>3</th>\n",
       "      <td>413710015</td>\n",
       "      <td>21</td>\n",
       "      <td>A</td>\n",
       "      <td>really sweetest boyfriend truly wonderful watc...</td>\n",
       "    </tr>\n",
       "    <tr>\n",
       "      <th>4</th>\n",
       "      <td>584304916</td>\n",
       "      <td>90</td>\n",
       "      <td>F</td>\n",
       "      <td>stay ruined life  othdiary world full magic be...</td>\n",
       "    </tr>\n",
       "    <tr>\n",
       "      <th>5</th>\n",
       "      <td>546358433</td>\n",
       "      <td>19</td>\n",
       "      <td>A</td>\n",
       "      <td>diaryfoeens boys need understand caption tho ...</td>\n",
       "    </tr>\n",
       "    <tr>\n",
       "      <th>6</th>\n",
       "      <td>107138411</td>\n",
       "      <td>21</td>\n",
       "      <td>A</td>\n",
       "      <td>bitches nothing bitches cali nigga never seen ...</td>\n",
       "    </tr>\n",
       "    <tr>\n",
       "      <th>7</th>\n",
       "      <td>722121962</td>\n",
       "      <td>20</td>\n",
       "      <td>A</td>\n",
       "      <td>awes la thank love everybody annoying get welp...</td>\n",
       "    </tr>\n",
       "    <tr>\n",
       "      <th>8</th>\n",
       "      <td>88324161</td>\n",
       "      <td>21</td>\n",
       "      <td>A</td>\n",
       "      <td>nan</td>\n",
       "    </tr>\n",
       "    <tr>\n",
       "      <th>9</th>\n",
       "      <td>116306471</td>\n",
       "      <td>24</td>\n",
       "      <td>A</td>\n",
       "      <td>time nolenation feahespear floridastate cowboy...</td>\n",
       "    </tr>\n",
       "  </tbody>\n",
       "</table>\n",
       "</div>"
      ],
      "text/plain": [
       "          ID  Age ageband                            tweet_without_stopwords\n",
       "0   23605717   21       A   studentnt leannesiekiera child branch one fir...\n",
       "1  781084760   19       A  fallonperl miss fallon thanks  deucce happy gl...\n",
       "2  102262916   21       A  another note need dye hair andrew true love wa...\n",
       "3  413710015   21       A  really sweetest boyfriend truly wonderful watc...\n",
       "4  584304916   90       F  stay ruined life  othdiary world full magic be...\n",
       "5  546358433   19       A   diaryfoeens boys need understand caption tho ...\n",
       "6  107138411   21       A  bitches nothing bitches cali nigga never seen ...\n",
       "7  722121962   20       A  awes la thank love everybody annoying get welp...\n",
       "8   88324161   21       A                                                nan\n",
       "9  116306471   24       A  time nolenation feahespear floridastate cowboy..."
      ]
     },
     "execution_count": 45,
     "metadata": {},
     "output_type": "execute_result"
    }
   ],
   "source": [
    "total3.head(10)"
   ]
  },
  {
   "cell_type": "code",
   "execution_count": 61,
   "metadata": {},
   "outputs": [
    {
     "data": {
      "text/plain": [
       "<matplotlib.axes._subplots.AxesSubplot at 0x1a4aa4af28>"
      ]
     },
     "execution_count": 61,
     "metadata": {},
     "output_type": "execute_result"
    },
    {
     "data": {
      "image/png": "[encoded data removed]",
      "text/plain": [
       "<matplotlib.figure.Figure at 0x1a4a9d2198>"
      ]
     },
     "metadata": {},
     "output_type": "display_data"
    }
   ],
   "source": [
    "sns.countplot(x=\"ageband\", data=total3,order=['A','B','C','D','E','F'])\n",
    "#plt.xticks(rotation=45)"
   ]
  },
  {
   "cell_type": "code",
   "execution_count": 46,
   "metadata": {
    "collapsed": true
   },
   "outputs": [],
   "source": [
    "#split 80% training data and 20% holdout data\n",
    "train ,test = train_test_split(total3,test_size=0.2) "
   ]
  },
  {
   "cell_type": "code",
   "execution_count": 47,
   "metadata": {},
   "outputs": [
    {
     "data": {
      "text/plain": [
       "(1368, 4)"
      ]
     },
     "execution_count": 47,
     "metadata": {},
     "output_type": "execute_result"
    }
   ],
   "source": [
    "train.shape"
   ]
  },
  {
   "cell_type": "code",
   "execution_count": 48,
   "metadata": {},
   "outputs": [
    {
     "data": {
      "text/plain": [
       "(343, 4)"
      ]
     },
     "execution_count": 48,
     "metadata": {},
     "output_type": "execute_result"
    }
   ],
   "source": [
    "test.shape"
   ]
  },
  {
   "cell_type": "code",
   "execution_count": 49,
   "metadata": {
    "collapsed": true
   },
   "outputs": [],
   "source": [
    "train_text =list(train['tweet_without_stopwords'])"
   ]
  },
  {
   "cell_type": "code",
   "execution_count": 50,
   "metadata": {
    "collapsed": true
   },
   "outputs": [],
   "source": [
    "train_target =train['ageband'].values"
   ]
  },
  {
   "cell_type": "code",
   "execution_count": 51,
   "metadata": {
    "collapsed": true
   },
   "outputs": [],
   "source": [
    "text_clfPipe = Pipeline([('vect', CountVectorizer()),\n",
    "                      ('tfidf', TfidfTransformer()),\n",
    "                      ('feat-sel',  SelectFromModel(LinearSVC())),\n",
    "                      ('clf-rf', RandomForestClassifier(max_depth=2, random_state=0)),\n",
    "])"
   ]
  },
  {
   "cell_type": "code",
   "execution_count": 52,
   "metadata": {
    "collapsed": true
   },
   "outputs": [],
   "source": [
    "text_clf = text_clfPipe.fit(train_text,train_target )"
   ]
  },
  {
   "cell_type": "code",
   "execution_count": 53,
   "metadata": {
    "collapsed": true
   },
   "outputs": [],
   "source": [
    "#scores = cross_validation.cross_val_score(text_clfPipe, train_text,train_target, cv=10)"
   ]
  },
  {
   "cell_type": "code",
   "execution_count": 54,
   "metadata": {
    "collapsed": true
   },
   "outputs": [],
   "source": [
    "#scores.mean()"
   ]
  },
  {
   "cell_type": "markdown",
   "metadata": {},
   "source": [
    "### Classify arbitrary text for specific industry - 10 points"
   ]
  },
  {
   "cell_type": "code",
   "execution_count": 55,
   "metadata": {
    "collapsed": true
   },
   "outputs": [],
   "source": [
    "test_text =list(test['tweet_without_stopwords'])"
   ]
  },
  {
   "cell_type": "code",
   "execution_count": 56,
   "metadata": {
    "collapsed": true
   },
   "outputs": [],
   "source": [
    "predicted = text_clf.predict(test_text)"
   ]
  },
  {
   "cell_type": "code",
   "execution_count": 57,
   "metadata": {},
   "outputs": [
    {
     "data": {
      "text/plain": [
       "0.88338192419825068"
      ]
     },
     "execution_count": 57,
     "metadata": {},
     "output_type": "execute_result"
    }
   ],
   "source": [
    "accuracy_score(test['ageband'].values, predicted)"
   ]
  },
  {
   "cell_type": "code",
   "execution_count": 58,
   "metadata": {
    "collapsed": true
   },
   "outputs": [],
   "source": [
    "#prediction = pd.DataFrame(predicted, columns=['age_prediction']).to_csv('prediction.csv')"
   ]
  },
  {
   "cell_type": "code",
   "execution_count": 59,
   "metadata": {
    "collapsed": true
   },
   "outputs": [],
   "source": [
    "user_id =test['ID'].values"
   ]
  },
  {
   "cell_type": "code",
   "execution_count": 65,
   "metadata": {},
   "outputs": [],
   "source": [
    "#save predicted column as CSV file\n",
    "prediction =pd.DataFrame({'ID': user_id ,'age_prediction':predicted}).to_csv('age_predictions.csv',index = False)"
   ]
  },
  {
   "cell_type": "code",
   "execution_count": null,
   "metadata": {
    "collapsed": true
   },
   "outputs": [],
   "source": []
  }
 ],
 "metadata": {
  "kernelspec": {
   "display_name": "Python 3",
   "language": "python",
   "name": "python3"
  },
  "language_info": {
   "codemirror_mode": {
    "name": "ipython",
    "version": 3
   },
   "file_extension": ".py",
   "mimetype": "text/x-python",
   "name": "python",
   "nbconvert_exporter": "python",
   "pygments_lexer": "ipython3",
   "version": "3.6.3"
  }
 },
 "nbformat": 4,
 "nbformat_minor": 2
}
